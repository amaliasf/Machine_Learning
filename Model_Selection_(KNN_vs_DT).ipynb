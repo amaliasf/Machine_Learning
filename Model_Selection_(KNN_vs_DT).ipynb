{
  "nbformat": 4,
  "nbformat_minor": 0,
  "metadata": {
    "colab": {
      "name": "Model_Selection (KNN vs DT).ipynb",
      "provenance": []
    },
    "kernelspec": {
      "name": "python3",
      "display_name": "Python 3"
    }
  },
  "cells": [
    {
      "cell_type": "code",
      "metadata": {
        "colab": {
          "base_uri": "https://localhost:8080/"
        },
        "id": "M8Jaen3lE7Pv",
        "outputId": "36ce42cf-c487-484e-e55b-907759abf7ed"
      },
      "source": [
        "import pandas as pd\r\n",
        "\r\n",
        "#import data from url\r\n",
        "url = 'https://raw.githubusercontent.com/jbrownlee/Datasets/master/haberman.csv'\r\n",
        "list_cols = ['Age', \"Patient's Years\", \"N_positive_ax\", \"survival_status\"]\r\n",
        "df = pd.read_csv(url, names=list_cols)\r\n",
        "\r\n",
        "#splitting data feature and target\r\n",
        "x = df.drop('survival_status', axis=1)\r\n",
        "y = df['survival_status']\r\n",
        "\r\n",
        "#splitting data training and data test (test_size=0.25)\r\n",
        "from sklearn.model_selection import train_test_split\r\n",
        "x_train, x_test, y_train,  y_test = train_test_split(x,y, test_size=0.25, random_state=0)\r\n",
        "\r\n",
        "#1. KNN ALGORITHM\r\n",
        "\r\n",
        "#import module or library for KNN model classifier\r\n",
        "from sklearn.neighbors import KNeighborsClassifier\r\n",
        "from sklearn.model_selection import cross_validate, cross_val_score\r\n",
        "import numpy as np\r\n",
        "from sklearn.model_selection import GridSearchCV\r\n",
        "\r\n",
        "#initiate model for transformation/machine learning\r\n",
        "model = KNeighborsClassifier()\r\n",
        "param_grid = {'n_neighbors':np.arange(5,100), 'weights':['distance', 'uniform']}\r\n",
        "#define hyperparameter combination for model selection using GridSearchCV\r\n",
        "gscv = GridSearchCV(model, param_grid=param_grid, scoring='roc_auc', cv=5)\r\n",
        "\r\n",
        "#training the model \r\n",
        "gscv.fit(x_train, y_train)\r\n",
        "\r\n",
        "#best combination hyperparameter \r\n",
        "gscv.best_params_\r\n",
        "\r\n",
        "#best score validation on this model\r\n",
        "gscv.best_score_\r\n",
        "\r\n",
        "#probability predictions \r\n",
        "knn = KNeighborsClassifier(n_neighbors=51, weights='uniform')\r\n",
        "knn.fit(x_train, y_train)\r\n",
        "y_predict = knn.predict_proba(x_test)\r\n",
        "\r\n",
        "#score roc_auc\r\n",
        "crossval_scores = cross_validate(knn, x_train, y_train, scoring='roc_auc', cv=10, return_train_score=True)\r\n",
        "crossval_scores['test_score'].mean()\r\n",
        "\r\n",
        "#2. DECISION TREE ALGORITHM\r\n",
        "\r\n",
        "#import module or library for Decision Tree model classifier\r\n",
        "from sklearn.tree import DecisionTreeClassifier\r\n",
        "\r\n",
        "#initiate model for transformation/machine learning\r\n",
        "dtc = DecisionTreeClassifier()\r\n",
        "param_grid = {'max_leaf_nodes': list(range(2, 100)), 'min_samples_split': [2, 3, 4]}\r\n",
        "#define hyperparameter combination for model selection using GridSearchCV\r\n",
        "gscv_dtc = GridSearchCV(dtc, param_grid=param_grid, scoring='roc_auc', cv=5)\r\n",
        "gscv_dtc.fit(x_train, y_train)\r\n",
        "\r\n",
        "#best combination hyperparameter \r\n",
        "gscv_dtc.best_params_\r\n",
        "\r\n",
        "#best score validation on this model\r\n",
        "gscv_dtc.best_score_\r\n",
        "\r\n",
        "#probability predictions \r\n",
        "dtc.fit(x_train, y_train)\r\n",
        "y_predict = dtc.predict_proba(x_test)\r\n",
        "\r\n",
        "#score roc_auc\r\n",
        "crossval_scores = cross_validate(dtc, x_train, y_train, scoring='roc_auc', cv=10, return_train_score=True)\r\n",
        "crossval_scores['test_score'].mean()"
      ],
      "execution_count": 1,
      "outputs": [
        {
          "output_type": "execute_result",
          "data": {
            "text/plain": [
              "0.5637908496732026"
            ]
          },
          "metadata": {
            "tags": []
          },
          "execution_count": 1
        }
      ]
    },
    {
      "cell_type": "markdown",
      "metadata": {
        "id": "oRnzXKhOIQ2E"
      },
      "source": [
        "Berdasarkan hasil akurasi, hasil menunjukkan KNN menghasilkan nilai akurasi yang lebih baik daripada Decision Tree pada model yang telah dibangun. "
      ]
    }
  ]
}